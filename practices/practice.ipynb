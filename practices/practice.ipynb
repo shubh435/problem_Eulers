{
 "cells": [
  {
   "cell_type": "code",
   "execution_count": 2,
   "source": [
    "nums=[12,0,None,-55,234,89,None,0,6,-12]\r\n",
    "result=list(filter(lambda i:i is not None,nums))\r\n",
    "print(\"Original List:\\n\",nums)\r\n",
    "print(\"after Removing None value:\\n\",result)\r\n"
   ],
   "outputs": [
    {
     "output_type": "stream",
     "name": "stdout",
     "text": [
      "Original List:\n",
      " [12, 0, None, -55, 234, 89, None, 0, 6, -12]\n",
      "after Removing None value:\n",
      " [12, 0, -55, 234, 89, 0, 6, -12]\n"
     ]
    }
   ],
   "metadata": {}
  },
  {
   "cell_type": "code",
   "execution_count": null,
   "source": [],
   "outputs": [],
   "metadata": {}
  }
 ],
 "metadata": {
  "orig_nbformat": 4,
  "language_info": {
   "name": "python",
   "version": "3.9.6",
   "mimetype": "text/x-python",
   "codemirror_mode": {
    "name": "ipython",
    "version": 3
   },
   "pygments_lexer": "ipython3",
   "nbconvert_exporter": "python",
   "file_extension": ".py"
  },
  "kernelspec": {
   "name": "python3",
   "display_name": "Python 3.9.6 64-bit"
  },
  "interpreter": {
   "hash": "071a5d89032fd3808cb27563172e896b82f0c2cbf3a41e9bb8348c094bc0a7ac"
  }
 },
 "nbformat": 4,
 "nbformat_minor": 2
}